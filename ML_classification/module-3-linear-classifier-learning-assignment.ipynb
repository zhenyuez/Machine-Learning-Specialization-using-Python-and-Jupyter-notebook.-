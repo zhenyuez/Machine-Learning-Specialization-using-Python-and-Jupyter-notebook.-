{
 "cells": [
  {
   "cell_type": "markdown",
   "metadata": {},
   "source": [
    "# Implementing logistic regression from scratch\n",
    "\n",
    "The goal of this notebook is to implement your own logistic regression classifier. You will:\n",
    "\n",
    " * Extract features from Amazon product reviews.\n",
    " * Convert an SFrame into a NumPy array.\n",
    " * Implement the link function for logistic regression.\n",
    " * Write a function to compute the derivative of the log likelihood function with respect to a single coefficient.\n",
    " * Implement gradient ascent.\n",
    " * Given a set of coefficients, predict sentiments.\n",
    " * Compute classification accuracy for the logistic regression model.\n",
    " \n",
    "Let's get started!\n",
    "    \n",
    "## Fire up GraphLab Create\n",
    "\n",
    "Make sure you have the latest version of GraphLab Create. Upgrade by\n",
    "```\n",
    "   pip install graphlab-create --upgrade\n",
    "```\n",
    "See [this page](https://dato.com/download/) for detailed instructions on upgrading."
   ]
  },
  {
   "cell_type": "code",
   "execution_count": 1,
   "metadata": {
    "collapsed": false
   },
   "outputs": [],
   "source": [
    "import graphlab"
   ]
  },
  {
   "cell_type": "markdown",
   "metadata": {},
   "source": [
    "## Load review dataset"
   ]
  },
  {
   "cell_type": "markdown",
   "metadata": {},
   "source": [
    "For this assignment, we will use a subset of the Amazon product review dataset. The subset was chosen to contain similar numbers of positive and negative reviews, as the original dataset consisted primarily of positive reviews."
   ]
  },
  {
   "cell_type": "code",
   "execution_count": 2,
   "metadata": {
    "collapsed": false
   },
   "outputs": [
    {
     "name": "stdout",
     "output_type": "stream",
     "text": [
      "This non-commercial license of GraphLab Create is assigned to zhenyuez@uci.edu and will expire on April 29, 2017. For commercial licensing options, visit https://dato.com/buy/.\n"
     ]
    },
    {
     "name": "stderr",
     "output_type": "stream",
     "text": [
      "[INFO] graphlab.cython.cy_server: GraphLab Create v1.10 started. Logging: /tmp/graphlab_server_1465362456.log\n"
     ]
    }
   ],
   "source": [
    "products = graphlab.SFrame('~/data/Python/amazon_baby_subset.gl/')"
   ]
  },
  {
   "cell_type": "markdown",
   "metadata": {},
   "source": [
    "One column of this dataset is 'sentiment', corresponding to the class label with +1 indicating a review with positive sentiment and -1 indicating one with negative sentiment."
   ]
  },
  {
   "cell_type": "code",
   "execution_count": 3,
   "metadata": {
    "collapsed": false
   },
   "outputs": [
    {
     "data": {
      "text/plain": [
       "dtype: int\n",
       "Rows: 53072\n",
       "[1, 1, 1, 1, 1, 1, 1, 1, 1, 1, 1, 1, 1, 1, 1, 1, 1, 1, 1, 1, 1, 1, 1, 1, 1, 1, 1, 1, 1, 1, 1, 1, 1, 1, 1, 1, 1, 1, 1, 1, 1, 1, 1, 1, 1, 1, 1, 1, 1, 1, 1, 1, 1, 1, 1, 1, 1, 1, 1, 1, 1, 1, 1, 1, 1, 1, 1, 1, 1, 1, 1, 1, 1, 1, 1, 1, 1, 1, 1, 1, 1, 1, 1, 1, 1, 1, 1, 1, 1, 1, 1, 1, 1, 1, 1, 1, 1, 1, 1, 1, ... ]"
      ]
     },
     "execution_count": 3,
     "metadata": {},
     "output_type": "execute_result"
    }
   ],
   "source": [
    "products['sentiment']"
   ]
  },
  {
   "cell_type": "markdown",
   "metadata": {},
   "source": [
    "Let us quickly explore more of this dataset.  The 'name' column indicates the name of the product.  Here we list the first 10 products in the dataset.  We then count the number of positive and negative reviews."
   ]
  },
  {
   "cell_type": "code",
   "execution_count": 4,
   "metadata": {
    "collapsed": false
   },
   "outputs": [
    {
     "data": {
      "text/plain": [
       "dtype: str\n",
       "Rows: 3\n",
       "[\"Stop Pacifier Sucking without tears with Thumbuddy To Love's Binky Fairy Puppet and Adorable Book\", \"Nature's Lullabies Second Year Sticker Calendar\", \"Nature's Lullabies Second Year Sticker Calendar\"]"
      ]
     },
     "execution_count": 4,
     "metadata": {},
     "output_type": "execute_result"
    }
   ],
   "source": [
    "products.head(3)['name']"
   ]
  },
  {
   "cell_type": "code",
   "execution_count": 5,
   "metadata": {
    "collapsed": false
   },
   "outputs": [
    {
     "name": "stdout",
     "output_type": "stream",
     "text": [
      "# of positive reviews = 26579\n",
      "# of negative reviews = 26493\n"
     ]
    }
   ],
   "source": [
    "print '# of positive reviews =', len(products[products['sentiment']==1])\n",
    "print '# of negative reviews =', len(products[products['sentiment']==-1])"
   ]
  },
  {
   "cell_type": "markdown",
   "metadata": {},
   "source": [
    "**Note:** For this assignment, we eliminated class imbalance by choosing \n",
    "a subset of the data with a similar number of positive and negative reviews. \n",
    "\n",
    "## Apply text cleaning on the review data\n",
    "\n",
    "In this section, we will perform some simple feature cleaning using **SFrames**. The last assignment used all words in building bag-of-words features, but here we limit ourselves to 193 words (for simplicity). We compiled a list of 193 most frequent words into a JSON file. \n",
    "\n",
    "Now, we will load these words from this JSON file:"
   ]
  },
  {
   "cell_type": "code",
   "execution_count": 6,
   "metadata": {
    "collapsed": false
   },
   "outputs": [],
   "source": [
    "import json\n",
    "with open('important_words.json', 'r') as f: # Reads the list of most frequent words\n",
    "    important_words = json.load(f)\n",
    "important_words = [str(s) for s in important_words]"
   ]
  },
  {
   "cell_type": "code",
   "execution_count": 7,
   "metadata": {
    "collapsed": false
   },
   "outputs": [
    {
     "name": "stdout",
     "output_type": "stream",
     "text": [
      "['baby', 'one', 'great', 'love', 'use', 'would', 'like', 'easy', 'little', 'seat', 'old', 'well', 'get', 'also', 'really', 'son', 'time', 'bought', 'product', 'good', 'daughter', 'much', 'loves', 'stroller', 'put', 'months', 'car', 'still', 'back', 'used', 'recommend', 'first', 'even', 'perfect', 'nice', 'bag', 'two', 'using', 'got', 'fit', 'around', 'diaper', 'enough', 'month', 'price', 'go', 'could', 'soft', 'since', 'buy', 'room', 'works', 'made', 'child', 'keep', 'size', 'small', 'need', 'year', 'big', 'make', 'take', 'easily', 'think', 'crib', 'clean', 'way', 'quality', 'thing', 'better', 'without', 'set', 'new', 'every', 'cute', 'best', 'bottles', 'work', 'purchased', 'right', 'lot', 'side', 'happy', 'comfortable', 'toy', 'able', 'kids', 'bit', 'night', 'long', 'fits', 'see', 'us', 'another', 'play', 'day', 'money', 'monitor', 'tried', 'thought', 'never', 'item', 'hard', 'plastic', 'however', 'disappointed', 'reviews', 'something', 'going', 'pump', 'bottle', 'cup', 'waste', 'return', 'amazon', 'different', 'top', 'want', 'problem', 'know', 'water', 'try', 'received', 'sure', 'times', 'chair', 'find', 'hold', 'gate', 'open', 'bottom', 'away', 'actually', 'cheap', 'worked', 'getting', 'ordered', 'came', 'milk', 'bad', 'part', 'worth', 'found', 'cover', 'many', 'design', 'looking', 'weeks', 'say', 'wanted', 'look', 'place', 'purchase', 'looks', 'second', 'piece', 'box', 'pretty', 'trying', 'difficult', 'together', 'though', 'give', 'started', 'anything', 'last', 'company', 'come', 'returned', 'maybe', 'took', 'broke', 'makes', 'stay', 'instead', 'idea', 'head', 'said', 'less', 'went', 'working', 'high', 'unit', 'seems', 'picture', 'completely', 'wish', 'buying', 'babies', 'won', 'tub', 'almost', 'either']\n"
     ]
    }
   ],
   "source": [
    "print important_words"
   ]
  },
  {
   "cell_type": "markdown",
   "metadata": {},
   "source": [
    "Now, we will perform 2 simple data transformations:\n",
    "\n",
    "1. Remove punctuation using [Python's built-in](https://docs.python.org/2/library/string.html) string functionality.\n",
    "2. Compute word counts (only for **important_words**)\n",
    "\n",
    "We start with *Step 1* which can be done as follows:"
   ]
  },
  {
   "cell_type": "code",
   "execution_count": 8,
   "metadata": {
    "collapsed": false
   },
   "outputs": [],
   "source": [
    "def remove_punctuation(text):\n",
    "    import string\n",
    "    return text.translate(None, string.punctuation) \n",
    "\n",
    "products['review_clean'] = products['review'].apply(remove_punctuation)"
   ]
  },
  {
   "cell_type": "markdown",
   "metadata": {},
   "source": [
    "Now we proceed with *Step 2*. For each word in **important_words**, we compute a count for the number of times the word occurs in the review. We will store this count in a separate column (one for each word). The result of this feature processing is a single column for each word in **important_words** which keeps a count of the number of times the respective word occurs in the review text.\n",
    "\n",
    "\n",
    "**Note:** There are several ways of doing this. In this assignment, we use the built-in *count* function for Python lists. Each review string is first split into individual words and the number of occurances of a given word is counted."
   ]
  },
  {
   "cell_type": "code",
   "execution_count": 9,
   "metadata": {
    "collapsed": false
   },
   "outputs": [],
   "source": [
    "for word in important_words:\n",
    "    products[word] = products['review_clean'].apply(lambda s : s.split().count(word))"
   ]
  },
  {
   "cell_type": "markdown",
   "metadata": {},
   "source": [
    "The SFrame **products** now contains one column for each of the 193 **important_words**. As an example, the column **perfect** contains a count of the number of times the word **perfect** occurs in each of the reviews."
   ]
  },
  {
   "cell_type": "code",
   "execution_count": 10,
   "metadata": {
    "collapsed": false
   },
   "outputs": [
    {
     "data": {
      "text/plain": [
       "dtype: int\n",
       "Rows: 53072\n",
       "[0, 0, 0, 1, 0, 0, 0, 0, 0, 0, 0, 1, 0, 0, 0, 0, 0, 0, 0, 0, 0, 0, 1, 0, 1, 0, 0, 1, 0, 0, 0, 0, 0, 0, 0, 0, 0, 0, 0, 0, 0, 0, 0, 0, 0, 0, 0, 0, 0, 0, 0, 0, 0, 0, 0, 0, 0, 0, 0, 0, 0, 0, 0, 0, 0, 0, 0, 0, 0, 0, 0, 0, 0, 0, 0, 0, 0, 0, 0, 0, 0, 0, 0, 0, 0, 0, 0, 0, 0, 0, 0, 0, 0, 0, 0, 0, 0, 0, 0, 0, ... ]"
      ]
     },
     "execution_count": 10,
     "metadata": {},
     "output_type": "execute_result"
    }
   ],
   "source": [
    "products['perfect']"
   ]
  },
  {
   "cell_type": "markdown",
   "metadata": {},
   "source": [
    "Now, write some code to compute the number of product reviews that contain the word **perfect**.\n",
    "\n",
    "**Hint**: \n",
    "* First create a column called `contains_perfect` which is set to 1 if the count of the word **perfect** (stored in column **perfect**) is >= 1.\n",
    "* Sum the number of 1s in the column `contains_perfect`."
   ]
  },
  {
   "cell_type": "code",
   "execution_count": 11,
   "metadata": {
    "collapsed": false
   },
   "outputs": [],
   "source": [
    "products['contains_perfect']=products['perfect'].apply(lambda x: 1 if x>=1 else 0)"
   ]
  },
  {
   "cell_type": "markdown",
   "metadata": {},
   "source": [
    "\n",
    "**Quiz Question**. How many reviews contain the word **perfect**?"
   ]
  },
  {
   "cell_type": "code",
   "execution_count": 14,
   "metadata": {
    "collapsed": false
   },
   "outputs": [
    {
     "data": {
      "text/plain": [
       "2955"
      ]
     },
     "execution_count": 14,
     "metadata": {},
     "output_type": "execute_result"
    }
   ],
   "source": [
    "sum(products['contains_perfect'])"
   ]
  },
  {
   "cell_type": "markdown",
   "metadata": {},
   "source": [
    "## Convert SFrame to NumPy array\n",
    "\n",
    "As you have seen previously, NumPy is a powerful library for doing matrix manipulation. Let us convert our data to matrices and then implement our algorithms with matrices.\n",
    "\n",
    "First, make sure you can perform the following import."
   ]
  },
  {
   "cell_type": "code",
   "execution_count": 15,
   "metadata": {
    "collapsed": true
   },
   "outputs": [],
   "source": [
    "import numpy as np"
   ]
  },
  {
   "cell_type": "markdown",
   "metadata": {},
   "source": [
    "We now provide you with a function that extracts columns from an SFrame and converts them into a NumPy array. Two arrays are returned: one representing features and another representing class labels. Note that the feature matrix includes an additional column 'intercept' to take account of the intercept term."
   ]
  },
  {
   "cell_type": "code",
   "execution_count": 16,
   "metadata": {
    "collapsed": true
   },
   "outputs": [],
   "source": [
    "def get_numpy_data(data_sframe, features, label):\n",
    "    data_sframe['intercept'] = 1\n",
    "    features = ['intercept'] + features\n",
    "    features_sframe = data_sframe[features]\n",
    "    feature_matrix = features_sframe.to_numpy()\n",
    "    label_sarray = data_sframe[label]\n",
    "    label_array = label_sarray.to_numpy()\n",
    "    return(feature_matrix, label_array)"
   ]
  },
  {
   "cell_type": "markdown",
   "metadata": {},
   "source": [
    "Let us convert the data into NumPy arrays."
   ]
  },
  {
   "cell_type": "code",
   "execution_count": 17,
   "metadata": {
    "collapsed": false
   },
   "outputs": [],
   "source": [
    "# Warning: This may take a few minutes...\n",
    "feature_matrix, sentiment = get_numpy_data(products, important_words, 'sentiment') "
   ]
  },
  {
   "cell_type": "markdown",
   "metadata": {},
   "source": [
    "**Are you running this notebook on an Amazon EC2 t2.micro instance?** (If you are using your own machine, please skip this section)\n",
    "\n",
    "It has been reported that t2.micro instances do not provide sufficient power to complete the conversion in acceptable amount of time. For interest of time, please refrain from running `get_numpy_data` function. Instead, download the [binary file](https://s3.amazonaws.com/static.dato.com/files/coursera/course-3/numpy-arrays/module-3-assignment-numpy-arrays.npz) containing the four NumPy arrays you'll need for the assignment. To load the arrays, run the following commands:\n",
    "```\n",
    "arrays = np.load('module-3-assignment-numpy-arrays.npz')\n",
    "feature_matrix, sentiment = arrays['feature_matrix'], arrays['sentiment']\n",
    "```"
   ]
  },
  {
   "cell_type": "code",
   "execution_count": 18,
   "metadata": {
    "collapsed": false
   },
   "outputs": [
    {
     "data": {
      "text/plain": [
       "(53072, 194)"
      ]
     },
     "execution_count": 18,
     "metadata": {},
     "output_type": "execute_result"
    }
   ],
   "source": [
    "feature_matrix.shape"
   ]
  },
  {
   "cell_type": "markdown",
   "metadata": {},
   "source": [
    "** Quiz Question:** How many features are there in the **feature_matrix**?\n",
    "\n",
    "** Quiz Question:** Assuming that the intercept is present, how does the number of features in **feature_matrix** relate to the number of features in the logistic regression model?"
   ]
  },
  {
   "cell_type": "markdown",
   "metadata": {},
   "source": [
    "Now, let us see what the **sentiment** column looks like:"
   ]
  },
  {
   "cell_type": "code",
   "execution_count": 19,
   "metadata": {
    "collapsed": false
   },
   "outputs": [
    {
     "data": {
      "text/plain": [
       "array([ 1,  1,  1, ..., -1, -1, -1])"
      ]
     },
     "execution_count": 19,
     "metadata": {},
     "output_type": "execute_result"
    }
   ],
   "source": [
    "sentiment"
   ]
  },
  {
   "cell_type": "markdown",
   "metadata": {},
   "source": [
    "## Estimating conditional probability with link function"
   ]
  },
  {
   "cell_type": "markdown",
   "metadata": {},
   "source": [
    "Recall from lecture that the link function is given by:\n",
    "$$\n",
    "P(y_i = +1 | \\mathbf{x}_i,\\mathbf{w}) = \\frac{1}{1 + \\exp(-\\mathbf{w}^T h(\\mathbf{x}_i))},\n",
    "$$\n",
    "\n",
    "where the feature vector $h(\\mathbf{x}_i)$ represents the word counts of **important_words** in the review  $\\mathbf{x}_i$. Complete the following function that implements the link function:"
   ]
  },
  {
   "cell_type": "code",
   "execution_count": 20,
   "metadata": {
    "collapsed": false
   },
   "outputs": [],
   "source": [
    "'''\n",
    "produces probablistic estimate for P(y_i = +1 | x_i, w).\n",
    "estimate ranges between 0 and 1.\n",
    "'''\n",
    "def predict_probability(feature_matrix, coefficients):\n",
    "    tmp = np.dot(feature_matrix,coefficients)\n",
    "    predictions = 1/(1+np.exp(-tmp))\n",
    "    return predictions"
   ]
  },
  {
   "cell_type": "markdown",
   "metadata": {},
   "source": [
    "**Aside**. How the link function works with matrix algebra\n",
    "\n",
    "Since the word counts are stored as columns in **feature_matrix**, each $i$-th row of the matrix corresponds to the feature vector $h(\\mathbf{x}_i)$:\n",
    "$$\n",
    "[\\text{feature_matrix}] =\n",
    "\\left[\n",
    "\\begin{array}{c}\n",
    "h(\\mathbf{x}_1)^T \\\\\n",
    "h(\\mathbf{x}_2)^T \\\\\n",
    "\\vdots \\\\\n",
    "h(\\mathbf{x}_N)^T\n",
    "\\end{array}\n",
    "\\right] =\n",
    "\\left[\n",
    "\\begin{array}{cccc}\n",
    "h_0(\\mathbf{x}_1) & h_1(\\mathbf{x}_1) & \\cdots & h_D(\\mathbf{x}_1) \\\\\n",
    "h_0(\\mathbf{x}_2) & h_1(\\mathbf{x}_2) & \\cdots & h_D(\\mathbf{x}_2) \\\\\n",
    "\\vdots & \\vdots & \\ddots & \\vdots \\\\\n",
    "h_0(\\mathbf{x}_N) & h_1(\\mathbf{x}_N) & \\cdots & h_D(\\mathbf{x}_N)\n",
    "\\end{array}\n",
    "\\right]\n",
    "$$\n",
    "\n",
    "By the rules of matrix multiplication, the score vector containing elements $\\mathbf{w}^T h(\\mathbf{x}_i)$ is obtained by multiplying **feature_matrix** and the coefficient vector $\\mathbf{w}$.\n",
    "$$\n",
    "[\\text{score}] =\n",
    "[\\text{feature_matrix}]\\mathbf{w} =\n",
    "\\left[\n",
    "\\begin{array}{c}\n",
    "h(\\mathbf{x}_1)^T \\\\\n",
    "h(\\mathbf{x}_2)^T \\\\\n",
    "\\vdots \\\\\n",
    "h(\\mathbf{x}_N)^T\n",
    "\\end{array}\n",
    "\\right]\n",
    "\\mathbf{w}\n",
    "= \\left[\n",
    "\\begin{array}{c}\n",
    "h(\\mathbf{x}_1)^T\\mathbf{w} \\\\\n",
    "h(\\mathbf{x}_2)^T\\mathbf{w} \\\\\n",
    "\\vdots \\\\\n",
    "h(\\mathbf{x}_N)^T\\mathbf{w}\n",
    "\\end{array}\n",
    "\\right]\n",
    "= \\left[\n",
    "\\begin{array}{c}\n",
    "\\mathbf{w}^T h(\\mathbf{x}_1) \\\\\n",
    "\\mathbf{w}^T h(\\mathbf{x}_2) \\\\\n",
    "\\vdots \\\\\n",
    "\\mathbf{w}^T h(\\mathbf{x}_N)\n",
    "\\end{array}\n",
    "\\right]\n",
    "$$"
   ]
  },
  {
   "cell_type": "markdown",
   "metadata": {},
   "source": [
    "**Checkpoint**\n",
    "\n",
    "Just to make sure you are on the right track, we have provided a few examples. If your `predict_probability` function is implemented correctly, then the outputs will match:"
   ]
  },
  {
   "cell_type": "code",
   "execution_count": 21,
   "metadata": {
    "collapsed": false
   },
   "outputs": [
    {
     "name": "stdout",
     "output_type": "stream",
     "text": [
      "The following outputs must match \n",
      "------------------------------------------------\n",
      "correct_predictions           = [ 0.98201379  0.26894142]\n",
      "output of predict_probability = [ 0.98201379  0.26894142]\n"
     ]
    }
   ],
   "source": [
    "dummy_feature_matrix = np.array([[1.,2.,3.], [1.,-1.,-1]])\n",
    "dummy_coefficients = np.array([1., 3., -1.])\n",
    "\n",
    "correct_scores      = np.array( [ 1.*1. + 2.*3. + 3.*(-1.),          1.*1. + (-1.)*3. + (-1.)*(-1.) ] )\n",
    "correct_predictions = np.array( [ 1./(1+np.exp(-correct_scores[0])), 1./(1+np.exp(-correct_scores[1])) ] )\n",
    "\n",
    "print 'The following outputs must match '\n",
    "print '------------------------------------------------'\n",
    "print 'correct_predictions           =', correct_predictions\n",
    "print 'output of predict_probability =', predict_probability(dummy_feature_matrix, dummy_coefficients)"
   ]
  },
  {
   "cell_type": "markdown",
   "metadata": {},
   "source": [
    "## Compute derivative of log likelihood with respect to a single coefficient\n",
    "\n",
    "Recall from lecture:\n",
    "$$\n",
    "\\frac{\\partial\\ell}{\\partial w_j} = \\sum_{i=1}^N h_j(\\mathbf{x}_i)\\left(\\mathbf{1}[y_i = +1] - P(y_i = +1 | \\mathbf{x}_i, \\mathbf{w})\\right)\n",
    "$$\n",
    "\n",
    "We will now write a function that computes the derivative of log likelihood with respect to a single coefficient $w_j$. The function accepts two arguments:\n",
    "* `errors` vector containing $\\mathbf{1}[y_i = +1] - P(y_i = +1 | \\mathbf{x}_i, \\mathbf{w})$ for all $i$.\n",
    "* `feature` vector containing $h_j(\\mathbf{x}_i)$  for all $i$. \n",
    "\n",
    "Complete the following code block:"
   ]
  },
  {
   "cell_type": "code",
   "execution_count": 29,
   "metadata": {
    "collapsed": true
   },
   "outputs": [],
   "source": [
    "def feature_derivative(errors, feature):     \n",
    "    derivative = np.dot(feature,errors)\n",
    "    return derivative"
   ]
  },
  {
   "cell_type": "markdown",
   "metadata": {},
   "source": [
    "In the main lecture, our focus was on the likelihood.  In the advanced optional video, however, we introduced a transformation of this likelihood---called the log likelihood---that simplifies the derivation of the gradient and is more numerically stable.  Due to its numerical stability, we will use the log likelihood instead of the likelihood to assess the algorithm.\n",
    "\n",
    "The log likelihood is computed using the following formula (see the advanced optional video if you are curious about the derivation of this equation):\n",
    "\n",
    "$$\\ell\\ell(\\mathbf{w}) = \\sum_{i=1}^N \\Big( (\\mathbf{1}[y_i = +1] - 1)\\mathbf{w}^T h(\\mathbf{x}_i) - \\ln\\left(1 + \\exp(-\\mathbf{w}^T h(\\mathbf{x}_i))\\right) \\Big) $$\n",
    "\n",
    "We provide a function to compute the log likelihood for the entire dataset. "
   ]
  },
  {
   "cell_type": "code",
   "execution_count": 30,
   "metadata": {
    "collapsed": false
   },
   "outputs": [],
   "source": [
    "def compute_log_likelihood(feature_matrix, sentiment, coefficients):\n",
    "    indicator = (sentiment==+1)\n",
    "    scores = np.dot(feature_matrix, coefficients)\n",
    "    logexp = np.log(1. + np.exp(-scores))\n",
    "    \n",
    "    # Simple check to prevent overflow\n",
    "    mask = np.isinf(logexp)\n",
    "    logexp[mask] = -scores[mask]\n",
    "    \n",
    "    lp = np.sum((indicator-1)*scores - logexp)\n",
    "    return lp"
   ]
  },
  {
   "cell_type": "markdown",
   "metadata": {},
   "source": [
    "**Checkpoint**\n",
    "\n",
    "Just to make sure we are on the same page, run the following code block and check that the outputs match."
   ]
  },
  {
   "cell_type": "code",
   "execution_count": 31,
   "metadata": {
    "collapsed": false
   },
   "outputs": [
    {
     "name": "stdout",
     "output_type": "stream",
     "text": [
      "The following outputs must match \n",
      "------------------------------------------------\n",
      "correct_log_likelihood           = -5.33141161544\n",
      "output of compute_log_likelihood = -5.33141161544\n"
     ]
    }
   ],
   "source": [
    "dummy_feature_matrix = np.array([[1.,2.,3.], [1.,-1.,-1]])\n",
    "dummy_coefficients = np.array([1., 3., -1.])\n",
    "dummy_sentiment = np.array([-1, 1])\n",
    "\n",
    "correct_indicators  = np.array( [ -1==+1,                                       1==+1 ] )\n",
    "correct_scores      = np.array( [ 1.*1. + 2.*3. + 3.*(-1.),                     1.*1. + (-1.)*3. + (-1.)*(-1.) ] )\n",
    "correct_first_term  = np.array( [ (correct_indicators[0]-1)*correct_scores[0],  (correct_indicators[1]-1)*correct_scores[1] ] )\n",
    "correct_second_term = np.array( [ np.log(1. + np.exp(-correct_scores[0])),      np.log(1. + np.exp(-correct_scores[1])) ] )\n",
    "\n",
    "correct_ll          =      sum( [ correct_first_term[0]-correct_second_term[0], correct_first_term[1]-correct_second_term[1] ] ) \n",
    "\n",
    "print 'The following outputs must match '\n",
    "print '------------------------------------------------'\n",
    "print 'correct_log_likelihood           =', correct_ll\n",
    "print 'output of compute_log_likelihood =', compute_log_likelihood(dummy_feature_matrix, dummy_sentiment, dummy_coefficients)"
   ]
  },
  {
   "cell_type": "markdown",
   "metadata": {},
   "source": [
    "## Taking gradient steps"
   ]
  },
  {
   "cell_type": "markdown",
   "metadata": {},
   "source": [
    "Now we are ready to implement our own logistic regression. All we have to do is to write a gradient ascent function that takes gradient steps towards the optimum. \n",
    "\n",
    "Complete the following function to solve the logistic regression model using gradient ascent:"
   ]
  },
  {
   "cell_type": "code",
   "execution_count": 34,
   "metadata": {
    "collapsed": false
   },
   "outputs": [],
   "source": [
    "from math import sqrt\n",
    "\n",
    "def logistic_regression(feature_matrix, sentiment, initial_coefficients, step_size, max_iter):\n",
    "    coefficients = np.array(initial_coefficients) # make sure it's a numpy array\n",
    "    for itr in xrange(max_iter):\n",
    "\n",
    "        # Predict P(y_i = +1|x_i,w) using your predict_probability() function\n",
    "        predictions = predict_probability(feature_matrix, coefficients)\n",
    "        \n",
    "        # Compute indicator value for (y_i = +1)\n",
    "        indicator = (sentiment==+1)\n",
    "        \n",
    "        # Compute the errors as indicator - predictions\n",
    "        errors = indicator - predictions\n",
    "        for j in xrange(len(coefficients)): # loop over each coefficient\n",
    "            \n",
    "            # Recall that feature_matrix[:,j] is the feature column associated with coefficients[j].\n",
    "            # Compute the derivative for coefficients[j]. Save it in a variable called derivative\n",
    "            derivative = feature_derivative(errors, feature_matrix[:,j])\n",
    "            \n",
    "            # add the step size times the derivative to the current coefficient\n",
    "            coefficients[j]+=step_size*derivative\n",
    "        \n",
    "        # Checking whether log likelihood is increasing\n",
    "        if itr <= 15 or (itr <= 100 and itr % 10 == 0) or (itr <= 1000 and itr % 100 == 0) \\\n",
    "        or (itr <= 10000 and itr % 1000 == 0) or itr % 10000 == 0:\n",
    "            lp = compute_log_likelihood(feature_matrix, sentiment, coefficients)\n",
    "            print 'iteration %*d: log likelihood of observed labels = %.8f' % \\\n",
    "                (int(np.ceil(np.log10(max_iter))), itr, lp)\n",
    "    return coefficients"
   ]
  },
  {
   "cell_type": "markdown",
   "metadata": {},
   "source": [
    "Now, let us run the logistic regression solver."
   ]
  },
  {
   "cell_type": "code",
   "execution_count": 35,
   "metadata": {
    "collapsed": false
   },
   "outputs": [
    {
     "name": "stdout",
     "output_type": "stream",
     "text": [
      "iteration   0: log likelihood of observed labels = -36780.91768478\n",
      "iteration   1: log likelihood of observed labels = -36775.13434712\n",
      "iteration   2: log likelihood of observed labels = -36769.35713564\n",
      "iteration   3: log likelihood of observed labels = -36763.58603240\n",
      "iteration   4: log likelihood of observed labels = -36757.82101962\n",
      "iteration   5: log likelihood of observed labels = -36752.06207964\n",
      "iteration   6: log likelihood of observed labels = -36746.30919497\n",
      "iteration   7: log likelihood of observed labels = -36740.56234821\n",
      "iteration   8: log likelihood of observed labels = -36734.82152213\n",
      "iteration   9: log likelihood of observed labels = -36729.08669961\n",
      "iteration  10: log likelihood of observed labels = -36723.35786366\n",
      "iteration  11: log likelihood of observed labels = -36717.63499744\n",
      "iteration  12: log likelihood of observed labels = -36711.91808422\n",
      "iteration  13: log likelihood of observed labels = -36706.20710739\n",
      "iteration  14: log likelihood of observed labels = -36700.50205049\n",
      "iteration  15: log likelihood of observed labels = -36694.80289716\n",
      "iteration  20: log likelihood of observed labels = -36666.39512033\n",
      "iteration  30: log likelihood of observed labels = -36610.01327118\n",
      "iteration  40: log likelihood of observed labels = -36554.19728365\n",
      "iteration  50: log likelihood of observed labels = -36498.93316099\n",
      "iteration  60: log likelihood of observed labels = -36444.20783914\n",
      "iteration  70: log likelihood of observed labels = -36390.00909449\n",
      "iteration  80: log likelihood of observed labels = -36336.32546144\n",
      "iteration  90: log likelihood of observed labels = -36283.14615871\n",
      "iteration 100: log likelihood of observed labels = -36230.46102347\n",
      "iteration 200: log likelihood of observed labels = -35728.89418769\n",
      "iteration 300: log likelihood of observed labels = -35268.51212683\n"
     ]
    }
   ],
   "source": [
    "coefficients = logistic_regression(feature_matrix, sentiment, initial_coefficients=np.zeros(194),\n",
    "                                   step_size=1e-7, max_iter=301)"
   ]
  },
  {
   "cell_type": "markdown",
   "metadata": {},
   "source": [
    "**Quiz question:** As each iteration of gradient ascent passes, does the log likelihood increase or decrease?"
   ]
  },
  {
   "cell_type": "markdown",
   "metadata": {},
   "source": [
    "## Predicting sentiments"
   ]
  },
  {
   "cell_type": "markdown",
   "metadata": {},
   "source": [
    "Recall from lecture that class predictions for a data point $\\mathbf{x}$ can be computed from the coefficients $\\mathbf{w}$ using the following formula:\n",
    "$$\n",
    "\\hat{y}_i = \n",
    "\\left\\{\n",
    "\\begin{array}{ll}\n",
    "      +1 & \\mathbf{x}_i^T\\mathbf{w} > 0 \\\\\n",
    "      -1 & \\mathbf{x}_i^T\\mathbf{w} \\leq 0 \\\\\n",
    "\\end{array} \n",
    "\\right.\n",
    "$$\n",
    "\n",
    "Now, we will write some code to compute class predictions. We will do this in two steps:\n",
    "* **Step 1**: First compute the **scores** using **feature_matrix** and **coefficients** using a dot product.\n",
    "* **Step 2**: Using the formula above, compute the class predictions from the scores.\n",
    "\n",
    "Step 1 can be implemented as follows:"
   ]
  },
  {
   "cell_type": "code",
   "execution_count": 77,
   "metadata": {
    "collapsed": true
   },
   "outputs": [],
   "source": [
    "scores = np.dot(feature_matrix, coefficients)"
   ]
  },
  {
   "cell_type": "markdown",
   "metadata": {},
   "source": [
    "Now, complete the following code block for **Step 2** to compute the class predictions using the **scores** obtained above:"
   ]
  },
  {
   "cell_type": "code",
   "execution_count": 93,
   "metadata": {
    "collapsed": false
   },
   "outputs": [],
   "source": [
    "predicts = map(lambda x: 1 if x>0 else -1, scores)\n",
    "predicts = np.asarray(predicts)"
   ]
  },
  {
   "cell_type": "markdown",
   "metadata": {},
   "source": [
    "** Quiz question: ** How many reviews were predicted to have positive sentiment?"
   ]
  },
  {
   "cell_type": "code",
   "execution_count": 94,
   "metadata": {
    "collapsed": false
   },
   "outputs": [
    {
     "data": {
      "text/plain": [
       "25126"
      ]
     },
     "execution_count": 94,
     "metadata": {},
     "output_type": "execute_result"
    }
   ],
   "source": [
    "sum(predicts==1)"
   ]
  },
  {
   "cell_type": "code",
   "execution_count": 95,
   "metadata": {
    "collapsed": false
   },
   "outputs": [
    {
     "data": {
      "text/plain": [
       "25126"
      ]
     },
     "execution_count": 95,
     "metadata": {},
     "output_type": "execute_result"
    }
   ],
   "source": [
    "sum(scores>0)"
   ]
  },
  {
   "cell_type": "markdown",
   "metadata": {},
   "source": [
    "## Measuring accuracy\n",
    "\n",
    "We will now measure the classification accuracy of the model. Recall from the lecture that the classification accuracy can be computed as follows:\n",
    "\n",
    "$$\n",
    "\\mbox{accuracy} = \\frac{\\mbox{# correctly classified data points}}{\\mbox{# total data points}}\n",
    "$$\n",
    "\n",
    "Complete the following code block to compute the accuracy of the model."
   ]
  },
  {
   "cell_type": "code",
   "execution_count": 99,
   "metadata": {
    "collapsed": false
   },
   "outputs": [
    {
     "name": "stdout",
     "output_type": "stream",
     "text": [
      "-----------------------------------------------------\n",
      "# Reviews   correctly classified = 39903\n",
      "# Reviews incorrectly classified = 13169\n",
      "# Reviews total                  = 53072\n",
      "-----------------------------------------------------\n",
      "Accuracy = 0.75\n"
     ]
    }
   ],
   "source": [
    "num_mistakes = np.sum(predicts!=sentiment)\n",
    "accuracy = 1-float(num_mistakes)/len(products)\n",
    "print \"-----------------------------------------------------\"\n",
    "print '# Reviews   correctly classified =', len(products) - num_mistakes\n",
    "print '# Reviews incorrectly classified =', num_mistakes\n",
    "print '# Reviews total                  =', len(products)\n",
    "print \"-----------------------------------------------------\"\n",
    "print 'Accuracy = %.2f' % accuracy"
   ]
  },
  {
   "cell_type": "markdown",
   "metadata": {},
   "source": [
    "**Quiz question**: What is the accuracy of the model on predictions made above? (round to 2 digits of accuracy)"
   ]
  },
  {
   "cell_type": "markdown",
   "metadata": {},
   "source": [
    "## Which words contribute most to positive & negative sentiments?"
   ]
  },
  {
   "cell_type": "markdown",
   "metadata": {},
   "source": [
    "Recall that in Module 2 assignment, we were able to compute the \"**most positive words**\". These are words that correspond most strongly with positive reviews. In order to do this, we will first do the following:\n",
    "* Treat each coefficient as a tuple, i.e. (**word**, **coefficient_value**).\n",
    "* Sort all the (**word**, **coefficient_value**) tuples by **coefficient_value** in descending order."
   ]
  },
  {
   "cell_type": "code",
   "execution_count": 100,
   "metadata": {
    "collapsed": false,
    "scrolled": true
   },
   "outputs": [],
   "source": [
    "coefficients = list(coefficients[1:]) # exclude intercept\n",
    "word_coefficient_tuples = [(word, coefficient) for word, coefficient in zip(important_words, coefficients)]\n",
    "word_coefficient_tuples = sorted(word_coefficient_tuples, key=lambda x:x[1], reverse=True)"
   ]
  },
  {
   "cell_type": "markdown",
   "metadata": {},
   "source": [
    "Now, **word_coefficient_tuples** contains a sorted list of (**word**, **coefficient_value**) tuples. The first 10 elements in this list correspond to the words that are most positive."
   ]
  },
  {
   "cell_type": "markdown",
   "metadata": {},
   "source": [
    "### Ten \"most positive\" words\n",
    "\n",
    "Now, we compute the 10 words that have the most positive coefficient values. These words are associated with positive sentiment."
   ]
  },
  {
   "cell_type": "code",
   "execution_count": 101,
   "metadata": {
    "collapsed": false
   },
   "outputs": [
    {
     "data": {
      "text/plain": [
       "[('great', 0.066546084170457681),\n",
       " ('love', 0.065890762922123244),\n",
       " ('easy', 0.06479458680257838),\n",
       " ('little', 0.045435626308421372),\n",
       " ('loves', 0.044976401394906038),\n",
       " ('well', 0.030135001092107067),\n",
       " ('perfect', 0.029739937104968462),\n",
       " ('old', 0.020077541034775385),\n",
       " ('nice', 0.018408707995268992),\n",
       " ('daughter', 0.017703199905701697),\n",
       " ('soft', 0.01757027224560289),\n",
       " ('fits', 0.016882471071408715),\n",
       " ('happy', 0.01680529588976808),\n",
       " ('baby', 0.015565696580423501),\n",
       " ('recommend', 0.015408450108008665),\n",
       " ('also', 0.01521619642291884),\n",
       " ('best', 0.014991791565630266),\n",
       " ('comfortable', 0.013253990081584899),\n",
       " ('car', 0.012685935745813373),\n",
       " ('clean', 0.012018174433365527),\n",
       " ('son', 0.011944817713693958),\n",
       " ('bit', 0.01170824809312326),\n",
       " ('works', 0.011703160621987424),\n",
       " ('size', 0.010715966516270303),\n",
       " ('stroller', 0.0099091646359727326),\n",
       " ('room', 0.0097832410215680614),\n",
       " ('price', 0.009572733543590178),\n",
       " ('play', 0.0091784289839843096),\n",
       " ('easily', 0.009032818138954405),\n",
       " ('kids', 0.0085828430043465263),\n",
       " ('still', 0.0082646669453744596),\n",
       " ('lot', 0.0079993893492483273),\n",
       " ('around', 0.0075089180973143405),\n",
       " ('need', 0.0071719072700270874),\n",
       " ('take', 0.0067101233146641716),\n",
       " ('keep', 0.0064376680818701917),\n",
       " ('crib', 0.0060027997886387035),\n",
       " ('without', 0.0059235361132202752),\n",
       " ('year', 0.0057332000284878908),\n",
       " ('set', 0.0056747899080565687),\n",
       " ('cute', 0.0055375123640590291),\n",
       " ('use', 0.005017438816565415),\n",
       " ('big', 0.0046066187619706054),\n",
       " ('diaper', 0.0042793828903547682),\n",
       " ('wish', 0.0040203765080997506),\n",
       " ('seat', 0.0039835336394136158),\n",
       " ('though', 0.003344899595086292),\n",
       " ('every', 0.0030814786398540438),\n",
       " ('enough', 0.0030678550129901064),\n",
       " ('able', 0.0029803067506612617),\n",
       " ('bag', 0.0028617875161052061),\n",
       " ('babies', 0.0028581898513427408),\n",
       " ('seems', 0.0028153321886465331),\n",
       " ('night', 0.0028082590666831482),\n",
       " ('good', 0.0027682039063976803),\n",
       " ('many', 0.0026466106385121301),\n",
       " ('makes', 0.0023134923740490212),\n",
       " ('pretty', 0.0022363904560238445),\n",
       " ('long', 0.0021872401621619436),\n",
       " ('think', 0.0017456314732199934),\n",
       " ('toy', 0.0017230705102314376),\n",
       " ('since', 0.0015547861236921187),\n",
       " ('looking', 0.0015347116392846495),\n",
       " ('us', 0.0015136828514065381),\n",
       " ('purchase', 0.001222578323510636),\n",
       " ('put', 0.00089923908141546587),\n",
       " ('cover', 0.00082925115999595575),\n",
       " ('used', 0.00061012880897526615),\n",
       " ('found', 0.00041209171300655637),\n",
       " ('really', 0.00027259206246775942),\n",
       " ('won', 0.00011988500346780872),\n",
       " ('go', 9.9166682748142858e-05),\n",
       " ('looks', 1.3669928550231116e-05),\n",
       " ('high', -0.00018648923566776305),\n",
       " ('day', -0.00018857228050011193),\n",
       " ('bottles', -0.00033566600034981727),\n",
       " ('chair', -0.00051596048462622878),\n",
       " ('using', -0.00065735036209234332),\n",
       " ('side', -0.00086139044376868984),\n",
       " ('worth', -0.00097621967562233755),\n",
       " ('almost', -0.0011449351626316182),\n",
       " ('hold', -0.0012476158571719626),\n",
       " ('months', -0.0013621951573487422),\n",
       " ('look', -0.0016457514473845504),\n",
       " ('sure', -0.0016689531424132925),\n",
       " ('find', -0.0019419955109540178),\n",
       " ('amazon', -0.0019732093718961645),\n",
       " ('month', -0.0022031766056230711),\n",
       " ('getting', -0.002220344023969568),\n",
       " ('come', -0.0024780569860886588),\n",
       " ('second', -0.003018666010667183),\n",
       " ('head', -0.0030257887493927997),\n",
       " ('small', -0.0030534547593308705),\n",
       " ('place', -0.0033188773175082003),\n",
       " ('together', -0.0034133092891886533),\n",
       " ('want', -0.0034808852314084341),\n",
       " ('like', -0.0035048841333352042),\n",
       " ('give', -0.0035098451575682485),\n",
       " ('say', -0.0037369438587485202),\n",
       " ('wanted', -0.0038141640936843104),\n",
       " ('know', -0.0040749701003517051),\n",
       " ('took', -0.0042664438640147087),\n",
       " ('much', -0.0043970006745094317),\n",
       " ('see', -0.0046597374068885642),\n",
       " ('purchased', -0.0047899094286734034),\n",
       " ('fit', -0.0047957952780930211),\n",
       " ('gate', -0.005012917306197128),\n",
       " ('bottle', -0.005040821636249148),\n",
       " ('different', -0.0050412750790588138),\n",
       " ('came', -0.0051011560842950604),\n",
       " ('however', -0.0051028797848771089),\n",
       " ('make', -0.005205884210607155),\n",
       " ('new', -0.0052878621959721508),\n",
       " ('buying', -0.0054430034643825967),\n",
       " ('last', -0.0054701615413924346),\n",
       " ('actually', -0.0056057334752514162),\n",
       " ('less', -0.0056549872222576942),\n",
       " ('child', -0.0060871403023475545),\n",
       " ('started', -0.0062628315031623034),\n",
       " ('instead', -0.0063001267181794609),\n",
       " ('water', -0.0063005429622255424),\n",
       " ('maybe', -0.0064009893446270224),\n",
       " ('problem', -0.00640958915500378),\n",
       " ('right', -0.0064136885850504775),\n",
       " ('tub', -0.0064758768730180886),\n",
       " ('said', -0.0067628971751120251),\n",
       " ('went', -0.0068705023944023828),\n",
       " ('quality', -0.0069101081121460345),\n",
       " ('pump', -0.006952869149061942),\n",
       " ('top', -0.0070079191164656813),\n",
       " ('part', -0.0070417199084278053),\n",
       " ('ordered', -0.0070757309816473473),\n",
       " ('either', -0.0070920593441351383),\n",
       " ('bottom', -0.0072209880120885682),\n",
       " ('anything', -0.007224199425910096),\n",
       " ('made', -0.0073534593690945246),\n",
       " ('weeks', -0.0073726305977644124),\n",
       " ('design', -0.0077322878173709912),\n",
       " ('times', -0.007764187808314245),\n",
       " ('picture', -0.0081015029526760145),\n",
       " ('away', -0.0083178298076960894),\n",
       " ('one', -0.0085020467457573579),\n",
       " ('milk', -0.0089357286159934806),\n",
       " ('stay', -0.0090665333735902177),\n",
       " ('open', -0.0091204919107482751),\n",
       " ('cup', -0.0092591440431899798),\n",
       " ('worked', -0.0093152081919567181),\n",
       " ('trying', -0.0098742479801358762),\n",
       " ('completely', -0.010006213059178752),\n",
       " ('got', -0.010147655511657536),\n",
       " ('difficult', -0.010219204790778673),\n",
       " ('piece', -0.010282634317735408),\n",
       " ('two', -0.010576801537792882),\n",
       " ('box', -0.010669132724912933),\n",
       " ('going', -0.010770935491004765),\n",
       " ('try', -0.010918793208792998),\n",
       " ('another', -0.010950912169649831),\n",
       " ('unit', -0.0115230475554972),\n",
       " ('working', -0.011895059489782875),\n",
       " ('idea', -0.012101030310887904),\n",
       " ('bought', -0.012170641997242548),\n",
       " ('company', -0.012506394670958824),\n",
       " ('received', -0.012605189953662308),\n",
       " ('bad', -0.012754571329579797),\n",
       " ('something', -0.01280883802475081),\n",
       " ('never', -0.012969046546319292),\n",
       " ('first', -0.013213475301677048),\n",
       " ('hard', -0.013756676731261399),\n",
       " ('thing', -0.013868727265297585),\n",
       " ('cheap', -0.014709833465080669),\n",
       " ('reviews', -0.014866319449976982),\n",
       " ('plastic', -0.014977044903587939),\n",
       " ('better', -0.015040658977043386),\n",
       " ('broke', -0.015537698955653888),\n",
       " ('returned', -0.016001798500102516),\n",
       " ('item', -0.01713786701085479),\n",
       " ('buy', -0.017737543997218046),\n",
       " ('time', -0.018246193486087036),\n",
       " ('way', -0.018359460662945692),\n",
       " ('tried', -0.018702371424325834),\n",
       " ('could', -0.019846256660777214),\n",
       " ('thought', -0.021394348543682488),\n",
       " ('waste', -0.024042748071154956),\n",
       " ('monitor', -0.024482100545891717),\n",
       " ('return', -0.026592778462247283),\n",
       " ('back', -0.027742697230661331),\n",
       " ('get', -0.028711552980192592),\n",
       " ('disappointed', -0.028978976142317068),\n",
       " ('even', -0.030051249236035804),\n",
       " ('work', -0.033069515294752723),\n",
       " ('money', -0.038982037286487116),\n",
       " ('product', -0.041511033392108883),\n",
       " ('would', -0.053860148445203114)]"
      ]
     },
     "execution_count": 101,
     "metadata": {},
     "output_type": "execute_result"
    }
   ],
   "source": [
    "word_coefficient_tuples"
   ]
  },
  {
   "cell_type": "markdown",
   "metadata": {},
   "source": [
    "** Quiz question:** Which word is **not** present in the top 10 \"most positive\" words?"
   ]
  },
  {
   "cell_type": "markdown",
   "metadata": {},
   "source": [
    "### Ten \"most negative\" words\n",
    "\n",
    "Next, we repeat this exercise on the 10 most negative words.  That is, we compute the 10 words that have the most negative coefficient values. These words are associated with negative sentiment."
   ]
  },
  {
   "cell_type": "code",
   "execution_count": 104,
   "metadata": {
    "collapsed": false
   },
   "outputs": [
    {
     "data": {
      "text/plain": [
       "[('would', -0.053860148445203114),\n",
       " ('product', -0.041511033392108883),\n",
       " ('money', -0.038982037286487116),\n",
       " ('work', -0.033069515294752723),\n",
       " ('even', -0.030051249236035804),\n",
       " ('disappointed', -0.028978976142317068),\n",
       " ('get', -0.028711552980192592),\n",
       " ('back', -0.027742697230661331),\n",
       " ('return', -0.026592778462247283),\n",
       " ('monitor', -0.024482100545891717),\n",
       " ('waste', -0.024042748071154956),\n",
       " ('thought', -0.021394348543682488),\n",
       " ('could', -0.019846256660777214),\n",
       " ('tried', -0.018702371424325834),\n",
       " ('way', -0.018359460662945692),\n",
       " ('time', -0.018246193486087036),\n",
       " ('buy', -0.017737543997218046),\n",
       " ('item', -0.01713786701085479),\n",
       " ('returned', -0.016001798500102516),\n",
       " ('broke', -0.015537698955653888),\n",
       " ('better', -0.015040658977043386),\n",
       " ('plastic', -0.014977044903587939),\n",
       " ('reviews', -0.014866319449976982),\n",
       " ('cheap', -0.014709833465080669),\n",
       " ('thing', -0.013868727265297585),\n",
       " ('hard', -0.013756676731261399),\n",
       " ('first', -0.013213475301677048),\n",
       " ('never', -0.012969046546319292),\n",
       " ('something', -0.01280883802475081),\n",
       " ('bad', -0.012754571329579797),\n",
       " ('received', -0.012605189953662308),\n",
       " ('company', -0.012506394670958824),\n",
       " ('bought', -0.012170641997242548),\n",
       " ('idea', -0.012101030310887904),\n",
       " ('working', -0.011895059489782875),\n",
       " ('unit', -0.0115230475554972),\n",
       " ('another', -0.010950912169649831),\n",
       " ('try', -0.010918793208792998),\n",
       " ('going', -0.010770935491004765),\n",
       " ('box', -0.010669132724912933),\n",
       " ('two', -0.010576801537792882),\n",
       " ('piece', -0.010282634317735408),\n",
       " ('difficult', -0.010219204790778673),\n",
       " ('got', -0.010147655511657536),\n",
       " ('completely', -0.010006213059178752),\n",
       " ('trying', -0.0098742479801358762),\n",
       " ('worked', -0.0093152081919567181),\n",
       " ('cup', -0.0092591440431899798),\n",
       " ('open', -0.0091204919107482751),\n",
       " ('stay', -0.0090665333735902177),\n",
       " ('milk', -0.0089357286159934806),\n",
       " ('one', -0.0085020467457573579),\n",
       " ('away', -0.0083178298076960894),\n",
       " ('picture', -0.0081015029526760145),\n",
       " ('times', -0.007764187808314245),\n",
       " ('design', -0.0077322878173709912),\n",
       " ('weeks', -0.0073726305977644124),\n",
       " ('made', -0.0073534593690945246),\n",
       " ('anything', -0.007224199425910096),\n",
       " ('bottom', -0.0072209880120885682),\n",
       " ('either', -0.0070920593441351383),\n",
       " ('ordered', -0.0070757309816473473),\n",
       " ('part', -0.0070417199084278053),\n",
       " ('top', -0.0070079191164656813),\n",
       " ('pump', -0.006952869149061942),\n",
       " ('quality', -0.0069101081121460345),\n",
       " ('went', -0.0068705023944023828),\n",
       " ('said', -0.0067628971751120251),\n",
       " ('tub', -0.0064758768730180886),\n",
       " ('right', -0.0064136885850504775),\n",
       " ('problem', -0.00640958915500378),\n",
       " ('maybe', -0.0064009893446270224),\n",
       " ('water', -0.0063005429622255424),\n",
       " ('instead', -0.0063001267181794609),\n",
       " ('started', -0.0062628315031623034),\n",
       " ('child', -0.0060871403023475545),\n",
       " ('less', -0.0056549872222576942),\n",
       " ('actually', -0.0056057334752514162),\n",
       " ('last', -0.0054701615413924346),\n",
       " ('buying', -0.0054430034643825967),\n",
       " ('new', -0.0052878621959721508),\n",
       " ('make', -0.005205884210607155),\n",
       " ('however', -0.0051028797848771089),\n",
       " ('came', -0.0051011560842950604),\n",
       " ('different', -0.0050412750790588138),\n",
       " ('bottle', -0.005040821636249148),\n",
       " ('gate', -0.005012917306197128),\n",
       " ('fit', -0.0047957952780930211),\n",
       " ('purchased', -0.0047899094286734034),\n",
       " ('see', -0.0046597374068885642),\n",
       " ('much', -0.0043970006745094317),\n",
       " ('took', -0.0042664438640147087),\n",
       " ('know', -0.0040749701003517051),\n",
       " ('wanted', -0.0038141640936843104),\n",
       " ('say', -0.0037369438587485202),\n",
       " ('give', -0.0035098451575682485),\n",
       " ('like', -0.0035048841333352042),\n",
       " ('want', -0.0034808852314084341),\n",
       " ('together', -0.0034133092891886533),\n",
       " ('place', -0.0033188773175082003),\n",
       " ('small', -0.0030534547593308705),\n",
       " ('head', -0.0030257887493927997),\n",
       " ('second', -0.003018666010667183),\n",
       " ('come', -0.0024780569860886588),\n",
       " ('getting', -0.002220344023969568),\n",
       " ('month', -0.0022031766056230711),\n",
       " ('amazon', -0.0019732093718961645),\n",
       " ('find', -0.0019419955109540178),\n",
       " ('sure', -0.0016689531424132925),\n",
       " ('look', -0.0016457514473845504),\n",
       " ('months', -0.0013621951573487422),\n",
       " ('hold', -0.0012476158571719626),\n",
       " ('almost', -0.0011449351626316182),\n",
       " ('worth', -0.00097621967562233755),\n",
       " ('side', -0.00086139044376868984),\n",
       " ('using', -0.00065735036209234332),\n",
       " ('chair', -0.00051596048462622878),\n",
       " ('bottles', -0.00033566600034981727),\n",
       " ('day', -0.00018857228050011193),\n",
       " ('high', -0.00018648923566776305),\n",
       " ('looks', 1.3669928550231116e-05),\n",
       " ('go', 9.9166682748142858e-05),\n",
       " ('won', 0.00011988500346780872),\n",
       " ('really', 0.00027259206246775942),\n",
       " ('found', 0.00041209171300655637),\n",
       " ('used', 0.00061012880897526615),\n",
       " ('cover', 0.00082925115999595575),\n",
       " ('put', 0.00089923908141546587),\n",
       " ('purchase', 0.001222578323510636),\n",
       " ('us', 0.0015136828514065381),\n",
       " ('looking', 0.0015347116392846495),\n",
       " ('since', 0.0015547861236921187),\n",
       " ('toy', 0.0017230705102314376),\n",
       " ('think', 0.0017456314732199934),\n",
       " ('long', 0.0021872401621619436),\n",
       " ('pretty', 0.0022363904560238445),\n",
       " ('makes', 0.0023134923740490212),\n",
       " ('many', 0.0026466106385121301),\n",
       " ('good', 0.0027682039063976803),\n",
       " ('night', 0.0028082590666831482),\n",
       " ('seems', 0.0028153321886465331),\n",
       " ('babies', 0.0028581898513427408),\n",
       " ('bag', 0.0028617875161052061),\n",
       " ('able', 0.0029803067506612617),\n",
       " ('enough', 0.0030678550129901064),\n",
       " ('every', 0.0030814786398540438),\n",
       " ('though', 0.003344899595086292),\n",
       " ('seat', 0.0039835336394136158),\n",
       " ('wish', 0.0040203765080997506),\n",
       " ('diaper', 0.0042793828903547682),\n",
       " ('big', 0.0046066187619706054),\n",
       " ('use', 0.005017438816565415),\n",
       " ('cute', 0.0055375123640590291),\n",
       " ('set', 0.0056747899080565687),\n",
       " ('year', 0.0057332000284878908),\n",
       " ('without', 0.0059235361132202752),\n",
       " ('crib', 0.0060027997886387035),\n",
       " ('keep', 0.0064376680818701917),\n",
       " ('take', 0.0067101233146641716),\n",
       " ('need', 0.0071719072700270874),\n",
       " ('around', 0.0075089180973143405),\n",
       " ('lot', 0.0079993893492483273),\n",
       " ('still', 0.0082646669453744596),\n",
       " ('kids', 0.0085828430043465263),\n",
       " ('easily', 0.009032818138954405),\n",
       " ('play', 0.0091784289839843096),\n",
       " ('price', 0.009572733543590178),\n",
       " ('room', 0.0097832410215680614),\n",
       " ('stroller', 0.0099091646359727326),\n",
       " ('size', 0.010715966516270303),\n",
       " ('works', 0.011703160621987424),\n",
       " ('bit', 0.01170824809312326),\n",
       " ('son', 0.011944817713693958),\n",
       " ('clean', 0.012018174433365527),\n",
       " ('car', 0.012685935745813373),\n",
       " ('comfortable', 0.013253990081584899),\n",
       " ('best', 0.014991791565630266),\n",
       " ('also', 0.01521619642291884),\n",
       " ('recommend', 0.015408450108008665),\n",
       " ('baby', 0.015565696580423501),\n",
       " ('happy', 0.01680529588976808),\n",
       " ('fits', 0.016882471071408715),\n",
       " ('soft', 0.01757027224560289),\n",
       " ('daughter', 0.017703199905701697),\n",
       " ('nice', 0.018408707995268992),\n",
       " ('old', 0.020077541034775385),\n",
       " ('perfect', 0.029739937104968462),\n",
       " ('well', 0.030135001092107067),\n",
       " ('loves', 0.044976401394906038),\n",
       " ('little', 0.045435626308421372),\n",
       " ('easy', 0.06479458680257838),\n",
       " ('love', 0.065890762922123244),\n",
       " ('great', 0.066546084170457681)]"
      ]
     },
     "execution_count": 104,
     "metadata": {},
     "output_type": "execute_result"
    }
   ],
   "source": [
    "word_coefficient_tuples = sorted(word_coefficient_tuples, key=lambda x:x[1])\n",
    "word_coefficient_tuples"
   ]
  },
  {
   "cell_type": "markdown",
   "metadata": {},
   "source": [
    "** Quiz question:** Which word is **not** present in the top 10 \"most negative\" words?"
   ]
  }
 ],
 "metadata": {
  "kernelspec": {
   "display_name": "Python 2",
   "language": "python",
   "name": "python2"
  },
  "language_info": {
   "codemirror_mode": {
    "name": "ipython",
    "version": 2
   },
   "file_extension": ".py",
   "mimetype": "text/x-python",
   "name": "python",
   "nbconvert_exporter": "python",
   "pygments_lexer": "ipython2",
   "version": "2.7.10"
  }
 },
 "nbformat": 4,
 "nbformat_minor": 0
}
